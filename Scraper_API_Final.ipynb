{
 "cells": [
  {
   "cell_type": "code",
   "execution_count": 1,
   "id": "1147c463",
   "metadata": {},
   "outputs": [
    {
     "name": "stdout",
     "output_type": "stream",
     "text": [
      "IDs de Usuários: ['66772a2c3e11c4f746ec936b', '66772a2c3e11c4f746ec936b', '66772a2c3e11c4f746ec936b', '66772a2c3e11c4f746ec936b', '66772a2c3e11c4f746ec936b']\n",
      "Nomes de Perfis: ['Germancanoofi', 'jhonariasa', 'fredgol9', 'phganso', 'tsilva3']\n",
      "Perfis: ['Germancanoofi', 'jhonariasa', 'fredgol9', 'phganso', 'tsilva3']\n"
     ]
    }
   ],
   "source": [
    "from ntscraper import Nitter\n",
    "import requests\n",
    "import json\n",
    "import random\n",
    "\n",
    "# URL da sua API\n",
    "login_url = 'http://localhost:3000/auth/login'\n",
    "url = 'http://localhost:3000/usuarios'\n",
    "\n",
    "# Credenciais do usuário\n",
    "credentials = {\n",
    "    'usuario': 'admin',\n",
    "    'senha': 'admin'\n",
    "}\n",
    "\n",
    "# Fazendo uma solicitação POST para obter o token JWT\n",
    "login_response = requests.post(login_url, json=credentials)\n",
    "\n",
    "if login_response.status_code == 200:\n",
    "    token = login_response.json()['token']\n",
    "    \n",
    "    # Incluindo o token JWT no cabeçalho Authorization\n",
    "    headers = {\n",
    "        'Authorization': \"Bearer \" + token\n",
    "    }\n",
    "\n",
    "    # Fazendo uma solicitação GET para a API protegida\n",
    "    response = requests.get(url, headers=headers)\n",
    "\n",
    "    # Verificando se a solicitação foi bem-sucedida (código de status 200)\n",
    "    if response.status_code == 200:\n",
    "        # Se a solicitação foi bem-sucedida, você pode acessar os dados da resposta assim:\n",
    "        data = response.json()  # Isso assume que sua API retorna dados no formato JSON\n",
    "        \n",
    "        # Inicializa listas vazias para armazenar os nomes de perfil, ids de usuário e nomes de perfil\n",
    "        perfis = []\n",
    "        ids_usuarios = []\n",
    "        nomes_perfis = []\n",
    "\n",
    "        # Percorre a resposta da API\n",
    "        for usuario in data:\n",
    "            # Itera sobre os perfis do usuário\n",
    "            for perfil in usuario.get('perfis', []):\n",
    "                ids_usuarios.append(usuario['_id'])\n",
    "                nomes_perfis.append(perfil['usuario'])\n",
    "                perfis.append(perfil['usuario'])\n",
    "\n",
    "        # Imprime as listas\n",
    "        print(\"IDs de Usuários:\", ids_usuarios)\n",
    "        print(\"Nomes de Perfis:\", nomes_perfis)\n",
    "        print(\"Perfis:\", perfis)\n",
    "    else:\n",
    "        print(\"Erro ao acessar a API. Código de status:\", response.status_code)\n",
    "else:\n",
    "    print(\"Erro ao fazer login. Código de status:\", login_response.status_code)"
   ]
  },
  {
   "cell_type": "code",
   "execution_count": 2,
   "id": "989b7955",
   "metadata": {},
   "outputs": [
    {
     "name": "stderr",
     "output_type": "stream",
     "text": [
      "Testing instances:  92%|██████████████████████████████████████████████████████████     | 71/77 [02:22<00:09,  1.62s/it]"
     ]
    },
    {
     "name": "stdout",
     "output_type": "stream",
     "text": [
      "23-Jun-24 17:00:24 - Certificate did not match expected hostname: nt.ggtyler.dev. Certificate: {'subject': ((('commonName', '4g.ggtyler.dev'),),), 'issuer': ((('countryName', 'US'),), (('organizationName', \"Let's Encrypt\"),), (('commonName', 'R3'),)), 'version': 3, 'serialNumber': '03A4459CE6DA31CFF555DB78FF3F35BFEA88', 'notBefore': 'May 14 10:55:44 2024 GMT', 'notAfter': 'Aug 12 10:55:43 2024 GMT', 'subjectAltName': (('DNS', '4g.ggtyler.dev'),), 'OCSP': ('http://r3.o.lencr.org',), 'caIssuers': ('http://r3.i.lencr.org/',)}\n"
     ]
    },
    {
     "name": "stderr",
     "output_type": "stream",
     "text": [
      "\r",
      "Testing instances:  94%|██████████████████████████████████████████████████████████▉    | 72/77 [02:22<00:06,  1.38s/it]"
     ]
    },
    {
     "name": "stdout",
     "output_type": "stream",
     "text": [
      "23-Jun-24 17:00:25 - Certificate did not match expected hostname: nitter.uni-sonia.com. Certificate: {'subject': ((('commonName', '*.xserver.jp'),),), 'issuer': ((('countryName', 'JP'),), (('organizationName', 'CloudSecure Corporation'),), (('commonName', 'CloudSecure RSA Domain Validation Secure Server CA 2'),)), 'version': 3, 'serialNumber': 'ACA67AD2030638EE2DCE8E845B8299A6', 'notBefore': 'Mar 11 00:00:00 2024 GMT', 'notAfter': 'Apr 11 23:59:59 2025 GMT', 'subjectAltName': (('DNS', '*.xserver.jp'), ('DNS', 'xserver.jp')), 'OCSP': ('http://ocsp.sectigo.com',), 'caIssuers': ('http://crt.sectigo.com/CloudSecureRSADomainValidationSecureServerCA2.crt',)}\n"
     ]
    },
    {
     "name": "stderr",
     "output_type": "stream",
     "text": [
      "Testing instances: 100%|███████████████████████████████████████████████████████████████| 77/77 [02:38<00:00,  2.06s/it]\n"
     ]
    },
    {
     "name": "stdout",
     "output_type": "stream",
     "text": [
      "23-Jun-24 17:00:47 - Current stats for Germancanoofi: 1 tweets, 0 threads...\n",
      "{'link': 'https://twitter.com/Germancanoofi/status/1763454223017001127#m',\n",
      " 'nomePerfil': 'Germancanoofi',\n",
      " 'texto': 'Otra vez en RÍO #RECOPA2024',\n",
      " 'usuarioId': '66772a2c3e11c4f746ec936b'}\n",
      "Tweet inserido com sucesso!\n",
      "ID do tweet inserido: 66787eefcf15195e34aeb80d\n",
      "Erro ao usar a instância https://nitter.privacydev.net: list index out of range\n",
      "23-Jun-24 17:01:06 - Fetching error: Instance has been rate limited.Use another instance or try again later.\n",
      "Erro ao usar a instância https://nitter.lucabased.xyz: Invalid instance\n",
      "Erro ao obter tweets para o perfil jhonariasa: Não foi possível obter tweets de nenhuma instância.\n",
      "23-Jun-24 17:01:09 - Fetching error: Instance has been rate limited.Use another instance or try again later.\n",
      "Nenhum tweet encontrado usando a instância https://nitter.lucabased.xyz\n",
      "Erro ao usar a instância https://nitter.privacydev.net: list index out of range\n",
      "Erro ao obter tweets para o perfil fredgol9: Não foi possível obter tweets de nenhuma instância.\n",
      "23-Jun-24 17:01:23 - Fetching error: Instance has been rate limited.Use another instance or try again later.\n",
      "Nenhum tweet encontrado usando a instância https://nitter.lucabased.xyz\n",
      "Erro ao usar a instância https://nitter.privacydev.net: list index out of range\n",
      "Erro ao obter tweets para o perfil phganso: Não foi possível obter tweets de nenhuma instância.\n",
      "23-Jun-24 17:01:43 - Current stats for tsilva3: 1 tweets, 0 threads...\n",
      "{'link': 'https://twitter.com/superbet_br/status/1801348082631663659#m',\n",
      " 'nomePerfil': 'tsilva3',\n",
      " 'texto': '\"Só acredito quando botar o boné da Superbet\"  Pega o boné! Pega a '\n",
      "          'caneta! Pode assinar! 🖊️   @tsilva3  É SUPER! O Monstro é o novo '\n",
      "          'embaixador da Superbet Brasil! \\U0001fae1  Vamos junto!   '\n",
      "          '#SejaSuper',\n",
      " 'usuarioId': '66772a2c3e11c4f746ec936b'}\n",
      "Erro ao inserir tweet: {\"message\":\"O tweet não foi cadastrado porque o link já existe\"}\n"
     ]
    }
   ],
   "source": [
    "from pprint import pprint\n",
    "import requests\n",
    "import json\n",
    "import random\n",
    "import ntscraper\n",
    "\n",
    "# Lista de instâncias Nitter\n",
    "instances = [\n",
    "    \"https://nitter.lucabased.xyz\",\n",
    "    \"https://nitter.privacydev.net\"\n",
    "]\n",
    "\n",
    "# Função para tentar buscar tweets com uma instância\n",
    "def get_tweets_with_instance(scraper, username, number, instances):\n",
    "    for _ in range(len(instances)):\n",
    "        instance = random.choice(instances)\n",
    "        try:\n",
    "            tweets = scraper.get_tweets(username, mode=\"user\", number=number, instance=instance)\n",
    "            if tweets and tweets.get('tweets'):\n",
    "                return tweets\n",
    "            else:\n",
    "                print(f\"Nenhum tweet encontrado usando a instância {instance}\")\n",
    "                instances.remove(instance)\n",
    "        except Exception as e:\n",
    "            print(f\"Erro ao usar a instância {instance}: {e}\")\n",
    "            instances.remove(instance)\n",
    "    raise Exception(\"Não foi possível obter tweets de nenhuma instância.\")\n",
    "\n",
    "# Inicializa o scraper\n",
    "scraper = ntscraper.Nitter()\n",
    "\n",
    "# Percorre os perfis, ids_usuarios e nomes_perfis\n",
    "for usuarioId, nomePerfil in zip(ids_usuarios, nomes_perfis):\n",
    "    # Busca tweets usando uma instância aleatória\n",
    "    try:\n",
    "        tweets = get_tweets_with_instance(scraper, nomePerfil, 1, instances.copy())\n",
    "    except Exception as e:\n",
    "        print(f\"Erro ao obter tweets para o perfil {nomePerfil}: {e}\")\n",
    "        continue\n",
    "    \n",
    "    # Inicializa uma lista para armazenar os tweets processados deste perfil\n",
    "    tweets_processados = []\n",
    "    \n",
    "    # Itera sobre cada tweet no dicionário de tweets\n",
    "    for tweet in tweets['tweets']:\n",
    "        # Cria um novo dicionário com os campos desejados\n",
    "        tweet_processado = {\n",
    "            'link': tweet['link'],\n",
    "            'texto': tweet['text'],\n",
    "            'usuarioId': usuarioId,  # Inclui o usuarioId aqui\n",
    "            'nomePerfil': nomePerfil  # Inclui o nomePerfil aqui\n",
    "        }\n",
    "        # Adiciona o tweet processado à lista de tweets processados deste perfil\n",
    "        tweets_processados.append(tweet_processado)\n",
    "\n",
    "    # Exibe os tweets processados deste perfil\n",
    "    for tweet in tweets_processados:\n",
    "        pprint(tweet)\n",
    "\n",
    "    # URL da sua API para onde deseja fazer o POST\n",
    "    url2 = 'http://localhost:3000/tweets'\n",
    "\n",
    "    # Cabeçalhos para indicar que o conteúdo é JSON\n",
    "    headers = {'Content-Type': 'application/json', 'Authorization': \"Bearer \" + token}\n",
    "\n",
    "    # Fazendo a requisição POST para cada tweet individualmente\n",
    "    for tweet in tweets_processados:\n",
    "        # Dados que serão enviados no corpo da requisição POST\n",
    "        dados = json.dumps(tweet)\n",
    "\n",
    "        # Fazendo a requisição POST\n",
    "        response = requests.post(url2, data=dados, headers=headers)\n",
    "\n",
    "        # Verificando se a requisição foi bem-sucedida\n",
    "        if response.status_code == 201:\n",
    "            print(\"Tweet inserido com sucesso!\")\n",
    "            \n",
    "            # Extrai o ID do tweet inserido diretamente da resposta\n",
    "            id_inserido = response.json()['tweet']['_id']\n",
    "\n",
    "            # Imprime o ID do tweet inserido\n",
    "            print(\"ID do tweet inserido:\", id_inserido)\n",
    "        else:\n",
    "            print(\"Erro ao inserir tweet:\", response.text)"
   ]
  }
 ],
 "metadata": {
  "kernelspec": {
   "display_name": "Python 3 (ipykernel)",
   "language": "python",
   "name": "python3"
  },
  "language_info": {
   "codemirror_mode": {
    "name": "ipython",
    "version": 3
   },
   "file_extension": ".py",
   "mimetype": "text/x-python",
   "name": "python",
   "nbconvert_exporter": "python",
   "pygments_lexer": "ipython3",
   "version": "3.9.12"
  }
 },
 "nbformat": 4,
 "nbformat_minor": 5
}
