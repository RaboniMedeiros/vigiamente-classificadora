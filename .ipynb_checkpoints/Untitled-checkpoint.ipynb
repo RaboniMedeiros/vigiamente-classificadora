{
 "cells": [
  {
   "cell_type": "code",
   "execution_count": 26,
   "id": "1147c463",
   "metadata": {},
   "outputs": [
    {
     "name": "stdout",
     "output_type": "stream",
     "text": [
      "Perfis: ['Rhuan_MB', 'RaboniMedeiros', 'rabonimedeiros', 'RaboniMedeiros', 'Rhuan_MB', 'RaboniMedeiros', 'casimiro', 'vinijunicior', 'vinijr']\n",
      "IDs de Perfis: ['663d7c53adca58e351779980', '663d7e7c66d9896e8ca63ebc', '665d27ca595dfc367e4046d6', '665d27de595dfc367e4046e1', '663d7c53adca58e351779980', '663d7e7c66d9896e8ca63ebc', '665d278e595dfc367e4046b3', '66678ea806e5d1ee20a11085', '6667993d06e5d1ee20a1131a']\n"
     ]
    }
   ],
   "source": [
    "from ntscraper import Nitter\n",
    "import requests\n",
    "import json\n",
    "import random\n",
    "\n",
    "# URL da sua API\n",
    "login_url = 'http://localhost:3000/auth/login'\n",
    "url = 'http://localhost:3000/usuarios'\n",
    "\n",
    "# Credenciais do usuário\n",
    "credentials = {\n",
    "    'usuario': 'admin',\n",
    "    'senha': 'admin'\n",
    "}\n",
    "\n",
    "# Fazendo uma solicitação POST para obter o token JWT\n",
    "login_response = requests.post(login_url, json=credentials)\n",
    "\n",
    "if login_response.status_code == 200:\n",
    "    token = login_response.json()['login']\n",
    "    \n",
    "    # Incluindo o token JWT no cabeçalho Authorization\n",
    "    headers = {\n",
    "        'Authorization': \"Bearer \" + token\n",
    "    }\n",
    "\n",
    "    # Fazendo uma solicitação GET para a API protegida\n",
    "    response = requests.get(url, headers=headers)\n",
    "\n",
    "    # Verificando se a solicitação foi bem-sucedida (código de status 200)\n",
    "    if response.status_code == 200:\n",
    "        # Se a solicitação foi bem-sucedida, você pode acessar os dados da resposta assim:\n",
    "        data = response.json()  # Isso assume que sua API retorna dados no formato JSON\n",
    "        \n",
    "        # Inicializa listas vazias para armazenar os nomes de perfil e ids de perfil\n",
    "        perfis = []\n",
    "        ids_perfis = []\n",
    "\n",
    "        # Percorre a resposta da API\n",
    "        for usuario in data:\n",
    "            # Itera sobre os perfis do usuário\n",
    "            for perfil in usuario.get('perfis', []):\n",
    "                perfis.append(perfil['usuario'])\n",
    "                ids_perfis.append(perfil['_id'])\n",
    "\n",
    "        # Imprime as listas\n",
    "        print(\"Perfis:\", perfis)\n",
    "        print(\"IDs de Perfis:\", ids_perfis)\n",
    "    else:\n",
    "        print(\"Erro ao acessar a API. Código de status:\", response.status_code)\n",
    "else:\n",
    "    print(\"Erro ao fazer login. Código de status:\", login_response.status_code)"
   ]
  },
  {
   "cell_type": "code",
   "execution_count": 27,
   "id": "989b7955",
   "metadata": {},
   "outputs": [
    {
     "name": "stderr",
     "output_type": "stream",
     "text": [
      "Testing instances:  92%|██████████████████████████████████████████████████████████     | 71/77 [02:18<00:11,  1.84s/it]"
     ]
    },
    {
     "name": "stdout",
     "output_type": "stream",
     "text": [
      "20-Jun-24 20:40:04 - Certificate did not match expected hostname: nt.ggtyler.dev. Certificate: {'subject': ((('commonName', '4g.ggtyler.dev'),),), 'issuer': ((('countryName', 'US'),), (('organizationName', \"Let's Encrypt\"),), (('commonName', 'R3'),)), 'version': 3, 'serialNumber': '03A4459CE6DA31CFF555DB78FF3F35BFEA88', 'notBefore': 'May 14 10:55:44 2024 GMT', 'notAfter': 'Aug 12 10:55:43 2024 GMT', 'subjectAltName': (('DNS', '4g.ggtyler.dev'),), 'OCSP': ('http://r3.o.lencr.org',), 'caIssuers': ('http://r3.i.lencr.org/',)}\n"
     ]
    },
    {
     "name": "stderr",
     "output_type": "stream",
     "text": [
      "Testing instances:  95%|███████████████████████████████████████████████████████████▋   | 73/77 [02:18<00:04,  1.19s/it]"
     ]
    },
    {
     "name": "stdout",
     "output_type": "stream",
     "text": [
      "20-Jun-24 20:40:05 - Certificate did not match expected hostname: nitter.uni-sonia.com. Certificate: {'subject': ((('commonName', '*.xserver.jp'),),), 'issuer': ((('countryName', 'JP'),), (('organizationName', 'CloudSecure Corporation'),), (('commonName', 'CloudSecure RSA Domain Validation Secure Server CA 2'),)), 'version': 3, 'serialNumber': 'ACA67AD2030638EE2DCE8E845B8299A6', 'notBefore': 'Mar 11 00:00:00 2024 GMT', 'notAfter': 'Apr 11 23:59:59 2025 GMT', 'subjectAltName': (('DNS', '*.xserver.jp'), ('DNS', 'xserver.jp')), 'OCSP': ('http://ocsp.sectigo.com',), 'caIssuers': ('http://crt.sectigo.com/CloudSecureRSADomainValidationSecureServerCA2.crt',)}\n"
     ]
    },
    {
     "name": "stderr",
     "output_type": "stream",
     "text": [
      "Testing instances:  99%|██████████████████████████████████████████████████████████████▏| 76/77 [02:24<00:01,  1.85s/it]"
     ]
    },
    {
     "name": "stdout",
     "output_type": "stream",
     "text": [
      "20-Jun-24 20:40:11 - Certificate did not match expected hostname: nitter.tinfoil-hat.net. Certificate: {'subject': ((('commonName', 'jelly.tinfoil-hat.de'),),), 'issuer': ((('countryName', 'US'),), (('organizationName', \"Let's Encrypt\"),), (('commonName', 'R3'),)), 'version': 3, 'serialNumber': '044FDE3E7089FB997C3D8AFDE2412CE51554', 'notBefore': 'May 15 09:29:23 2024 GMT', 'notAfter': 'Aug 13 09:29:22 2024 GMT', 'subjectAltName': (('DNS', 'jelly.tinfoil-hat.de'),), 'OCSP': ('http://r3.o.lencr.org',), 'caIssuers': ('http://r3.i.lencr.org/',)}\n"
     ]
    },
    {
     "name": "stderr",
     "output_type": "stream",
     "text": [
      "Testing instances: 100%|███████████████████████████████████████████████████████████████| 77/77 [02:26<00:00,  1.90s/it]\n"
     ]
    },
    {
     "name": "stdout",
     "output_type": "stream",
     "text": [
      "20-Jun-24 20:40:17 - Current stats for Rhuan_MB: 1 tweets, 0 threads...\n",
      "{'link': 'https://twitter.com/Rhuan_MB/status/1322015923772006400#m', 'texto': 'Lipe porraaa', 'perfilId': '663d7c53adca58e351779980'}\n",
      "Erro ao inserir tweet: {\"message\":\"O tweet não foi cadastrado porque o link já existe\"}\n",
      "20-Jun-24 20:40:23 - Current stats for RaboniMedeiros: 1 tweets, 0 threads...\n",
      "{'link': 'https://twitter.com/RaboniMedeiros/status/1731819198412734936#m', 'texto': 'Repito esse texto todo dia ao acordar há 30 dias pra ter um dia mais feliz', 'perfilId': '663d7e7c66d9896e8ca63ebc'}\n",
      "Erro ao inserir tweet: {\"message\":\"O tweet não foi cadastrado porque o link já existe\"}\n",
      "20-Jun-24 20:40:29 - Current stats for rabonimedeiros: 1 tweets, 0 threads...\n",
      "{'link': 'https://twitter.com/RaboniMedeiros/status/1731819198412734936#m', 'texto': 'Repito esse texto todo dia ao acordar há 30 dias pra ter um dia mais feliz', 'perfilId': '665d27ca595dfc367e4046d6'}\n",
      "Erro ao inserir tweet: {\"message\":\"O tweet não foi cadastrado porque o link já existe\"}\n",
      "20-Jun-24 20:40:36 - Current stats for RaboniMedeiros: 1 tweets, 0 threads...\n",
      "{'link': 'https://twitter.com/RaboniMedeiros/status/1731819198412734936#m', 'texto': 'Repito esse texto todo dia ao acordar há 30 dias pra ter um dia mais feliz', 'perfilId': '665d27de595dfc367e4046e1'}\n",
      "Erro ao inserir tweet: {\"message\":\"O tweet não foi cadastrado porque o link já existe\"}\n",
      "20-Jun-24 20:40:42 - Current stats for Rhuan_MB: 1 tweets, 0 threads...\n",
      "{'link': 'https://twitter.com/Rhuan_MB/status/1322015923772006400#m', 'texto': 'Lipe porraaa', 'perfilId': '663d7c53adca58e351779980'}\n",
      "Erro ao inserir tweet: {\"message\":\"O tweet não foi cadastrado porque o link já existe\"}\n",
      "20-Jun-24 20:40:49 - Current stats for RaboniMedeiros: 1 tweets, 0 threads...\n",
      "{'link': 'https://twitter.com/RaboniMedeiros/status/1731819198412734936#m', 'texto': 'Repito esse texto todo dia ao acordar há 30 dias pra ter um dia mais feliz', 'perfilId': '663d7e7c66d9896e8ca63ebc'}\n",
      "Erro ao inserir tweet: {\"message\":\"O tweet não foi cadastrado porque o link já existe\"}\n",
      "20-Jun-24 20:40:55 - Current stats for casimiro: 1 tweets, 0 threads...\n",
      "{'link': 'https://twitter.com/Casimiro/status/1799678352867098834#m', 'texto': 'É uma sacanagem do caralho um time ser obrigado a jogar uma final 1 hora depois de uma semifinal contra um time que descansou mais de 3 horas. É uma festa que não foi feita pra nós, claramente. Vai ter que ser no coração mesmo.', 'perfilId': '665d278e595dfc367e4046b3'}\n",
      "Erro ao inserir tweet: {\"message\":\"O tweet não foi cadastrado porque o link já existe\"}\n",
      "20-Jun-24 20:40:57 - Fetching error: User \"vinijunicior\" not found\n",
      "20-Jun-24 20:41:05 - Current stats for vinijr: 1 tweets, 0 threads...\n",
      "{'link': 'https://twitter.com/vinijr/status/1803476165820101001#m', 'texto': 'Ginga in Brazil, Ginga on the pitch, and now Ginga in #SpiderMan2PS5!!   Shoutout to @KidSuper @PlayStation @insomniacgames @MarvelGames for this incredible opportunity!!   #ad #PlayStationPlaymakers #BeGreaterTogether', 'perfilId': '6667993d06e5d1ee20a1131a'}\n",
      "Erro ao inserir tweet: {\"message\":\"O tweet não foi cadastrado porque o link já existe\"}\n"
     ]
    }
   ],
   "source": [
    "from pprint import pprint\n",
    "import requests\n",
    "import json\n",
    "import random\n",
    "import ntscraper\n",
    "\n",
    "# Lista de instâncias Nitter\n",
    "instances = [\n",
    "    \"https://nitter.tiekoetter.com\",\n",
    "    \"https://bird.habedieeh.re\",\n",
    "    \"https://t.com.sb\",\n",
    "    \"https://nitter.qwik.space\",\n",
    "    \"https://nitter.kavin.rocks\"\n",
    "]\n",
    "\n",
    "# Função para tentar buscar tweets com uma instância\n",
    "def get_tweets_with_instance(scraper, username, number, instances):\n",
    "    for _ in range(len(instances)):\n",
    "        instance = random.choice(instances)\n",
    "        try:\n",
    "            tweets = scraper.get_tweets(username, mode=\"user\", number=number, instance=instance)\n",
    "            return tweets\n",
    "        except Exception as e:\n",
    "            print(f\"Erro ao usar a instância {instance}: {e}\")\n",
    "            instances.remove(instance)\n",
    "    raise Exception(\"Não foi possível obter tweets de nenhuma instância.\")\n",
    "\n",
    "# Inicializa o scraper\n",
    "scraper = ntscraper.Nitter()\n",
    "\n",
    "# Percorre os perfis e ids_perfis\n",
    "for perfil, perfil_id in zip(perfis, ids_perfis):\n",
    "    # Busca tweets usando uma instância aleatória\n",
    "    try:\n",
    "        tweets = get_tweets_with_instance(scraper, perfil, 1, instances.copy())\n",
    "    except Exception as e:\n",
    "        print(f\"Erro ao obter tweets para o perfil {perfil}: {e}\")\n",
    "        continue\n",
    "    \n",
    "    # Inicializa uma lista para armazenar os tweets processados deste perfil\n",
    "    tweets_processados = []\n",
    "    \n",
    "    # Itera sobre cada tweet no dicionário de tweets\n",
    "    for tweet in tweets['tweets']:\n",
    "        # Cria um novo dicionário com os campos desejados\n",
    "        tweet_processado = {\n",
    "            'link': tweet['link'],\n",
    "            'texto': tweet['text'],\n",
    "            'perfilId': perfil_id  # Inclui o perfilId aqui\n",
    "        }\n",
    "        # Adiciona o tweet processado à lista de tweets processados deste perfil\n",
    "        tweets_processados.append(tweet_processado)\n",
    "\n",
    "    # Exibe os tweets processados deste perfil\n",
    "    for tweet in tweets_processados:\n",
    "        print(tweet)\n",
    "\n",
    "    # URL da sua API para onde deseja fazer o POST\n",
    "    url2 = 'http://localhost:3000/tweets'\n",
    "\n",
    "    # Cabeçalhos para indicar que o conteúdo é JSON\n",
    "    headers = {'Content-Type': 'application/json', 'Authorization': \"Bearer \" + token}\n",
    "\n",
    "    # Fazendo a requisição POST para cada tweet individualmente\n",
    "    for tweet in tweets_processados:\n",
    "        # Dados que serão enviados no corpo da requisição POST\n",
    "        dados = json.dumps(tweet)\n",
    "\n",
    "        # Fazendo a requisição POST\n",
    "        response = requests.post(url2, data=dados, headers=headers)\n",
    "\n",
    "        # Verificando se a requisição foi bem-sucedida\n",
    "        if response.status_code == 201:\n",
    "            print(\"Tweet inserido com sucesso!\")\n",
    "            \n",
    "            # Extrai o ID do tweet inserido diretamente da resposta\n",
    "            id_inserido = response.json()['tweet']['_id']\n",
    "\n",
    "            # Imprime o ID do tweet inserido\n",
    "            print(\"ID do tweet inserido:\", id_inserido)\n",
    "        else:\n",
    "            print(\"Erro ao inserir tweet:\", response.text)"
   ]
  }
 ],
 "metadata": {
  "kernelspec": {
   "display_name": "Python 3 (ipykernel)",
   "language": "python",
   "name": "python3"
  },
  "language_info": {
   "codemirror_mode": {
    "name": "ipython",
    "version": 3
   },
   "file_extension": ".py",
   "mimetype": "text/x-python",
   "name": "python",
   "nbconvert_exporter": "python",
   "pygments_lexer": "ipython3",
   "version": "3.9.12"
  }
 },
 "nbformat": 4,
 "nbformat_minor": 5
}
