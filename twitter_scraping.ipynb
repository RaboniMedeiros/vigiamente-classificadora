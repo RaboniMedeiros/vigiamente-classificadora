{
 "cells": [
  {
   "cell_type": "code",
   "execution_count": 1,
   "id": "60379c2e-ced9-47da-9c33-08529bae7af6",
   "metadata": {},
   "outputs": [
    {
     "name": "stdout",
     "output_type": "stream",
     "text": [
      "Collecting ntscraper\n",
      "  Downloading ntscraper-0.3.13-py3-none-any.whl (11 kB)\n",
      "Requirement already satisfied: requests in c:\\users\\lucas\\anaconda3\\lib\\site-packages (from ntscraper) (2.27.1)\n",
      "Requirement already satisfied: lxml in c:\\users\\lucas\\anaconda3\\lib\\site-packages (from ntscraper) (4.8.0)\n",
      "Requirement already satisfied: beautifulsoup4 in c:\\users\\lucas\\anaconda3\\lib\\site-packages (from ntscraper) (4.11.1)\n",
      "Requirement already satisfied: soupsieve>1.2 in c:\\users\\lucas\\anaconda3\\lib\\site-packages (from beautifulsoup4->ntscraper) (2.3.1)\n",
      "Requirement already satisfied: charset-normalizer~=2.0.0 in c:\\users\\lucas\\anaconda3\\lib\\site-packages (from requests->ntscraper) (2.0.4)\n",
      "Requirement already satisfied: certifi>=2017.4.17 in c:\\users\\lucas\\anaconda3\\lib\\site-packages (from requests->ntscraper) (2021.10.8)\n",
      "Requirement already satisfied: idna<4,>=2.5 in c:\\users\\lucas\\anaconda3\\lib\\site-packages (from requests->ntscraper) (3.3)\n",
      "Requirement already satisfied: urllib3<1.27,>=1.21.1 in c:\\users\\lucas\\anaconda3\\lib\\site-packages (from requests->ntscraper) (1.26.9)\n",
      "Installing collected packages: ntscraper\n",
      "Successfully installed ntscraper-0.3.13\n",
      "Note: you may need to restart the kernel to use updated packages.\n"
     ]
    },
    {
     "name": "stderr",
     "output_type": "stream",
     "text": [
      "  WARNING: Retrying (Retry(total=4, connect=None, read=None, redirect=None, status=None)) after connection broken by 'ReadTimeoutError(\"HTTPSConnectionPool(host='files.pythonhosted.org', port=443): Read timed out. (read timeout=15)\")': /packages/7d/3f/026f5c95eff8761f4f0dd8e6cce80ea034351cf4886cebbbb546d9456f4e/ntscraper-0.3.13-py3-none-any.whl\n"
     ]
    }
   ],
   "source": [
    "pip install ntscraper"
   ]
  },
  {
   "cell_type": "code",
   "execution_count": 2,
   "id": "9c9b7597-7bc3-4b68-a85e-d6aed4f351fb",
   "metadata": {},
   "outputs": [],
   "source": [
    "from ntscraper import Nitter"
   ]
  },
  {
   "cell_type": "code",
   "execution_count": 40,
   "id": "be715eee-11b2-46b5-ba7d-02fc0bfdd64b",
   "metadata": {},
   "outputs": [
    {
     "name": "stderr",
     "output_type": "stream",
     "text": [
      "Testing instances:  92%|██████████████████████████████████████████████████████████     | 71/77 [02:17<00:06,  1.13s/it]"
     ]
    },
    {
     "name": "stdout",
     "output_type": "stream",
     "text": [
      "28-Apr-24 17:11:53 - Certificate did not match expected hostname: nt.ggtyler.dev. Certificate: {'subject': ((('commonName', '4g.ggtyler.dev'),),), 'issuer': ((('countryName', 'US'),), (('organizationName', \"Let's Encrypt\"),), (('commonName', 'R3'),)), 'version': 3, 'serialNumber': '048FA3D68DCD65927A6C57C2A3C9C1F8CA14', 'notBefore': 'Mar 15 00:26:35 2024 GMT', 'notAfter': 'Jun 13 00:26:34 2024 GMT', 'subjectAltName': (('DNS', '4g.ggtyler.dev'),), 'OCSP': ('http://r3.o.lencr.org',), 'caIssuers': ('http://r3.i.lencr.org/',)}\n"
     ]
    },
    {
     "name": "stderr",
     "output_type": "stream",
     "text": [
      "Testing instances:  95%|███████████████████████████████████████████████████████████▋   | 73/77 [02:17<00:03,  1.33it/s]"
     ]
    },
    {
     "name": "stdout",
     "output_type": "stream",
     "text": [
      "28-Apr-24 17:11:54 - Certificate did not match expected hostname: nitter.uni-sonia.com. Certificate: {'subject': ((('commonName', '*.xserver.jp'),),), 'issuer': ((('countryName', 'JP'),), (('organizationName', 'CloudSecure Corporation'),), (('commonName', 'CloudSecure RSA Domain Validation Secure Server CA 2'),)), 'version': 3, 'serialNumber': 'ACA67AD2030638EE2DCE8E845B8299A6', 'notBefore': 'Mar 11 00:00:00 2024 GMT', 'notAfter': 'Apr 11 23:59:59 2025 GMT', 'subjectAltName': (('DNS', '*.xserver.jp'), ('DNS', 'xserver.jp')), 'OCSP': ('http://ocsp.sectigo.com',), 'caIssuers': ('http://crt.sectigo.com/CloudSecureRSADomainValidationSecureServerCA2.crt',)}\n"
     ]
    },
    {
     "name": "stderr",
     "output_type": "stream",
     "text": [
      "Testing instances: 100%|███████████████████████████████████████████████████████████████| 77/77 [02:33<00:00,  2.00s/it]\n"
     ]
    }
   ],
   "source": [
    "scraper = Nitter(log_level = 1,skip_instance_check= False)"
   ]
  },
  {
   "cell_type": "code",
   "execution_count": 35,
   "id": "7204e94c-3645-48a5-a3a9-eea3237736d0",
   "metadata": {},
   "outputs": [
    {
     "name": "stdout",
     "output_type": "stream",
     "text": [
      "27-Apr-24 19:11:58 - No instance specified, using random instance https://nitter.esmailelbob.xyz\n",
      "27-Apr-24 19:12:04 - Current stats for Rhuan_MB: 10 tweets, 0 threads...\n"
     ]
    }
   ],
   "source": [
    "tweets = scraper.get_tweets(\"Rhuan_MB\",mode=\"user\",number=10)"
   ]
  },
  {
   "cell_type": "code",
   "execution_count": 14,
   "id": "874c2d74-c6c5-4fb1-b965-907760afb019",
   "metadata": {},
   "outputs": [],
   "source": [
    "from pprint import pprint\n"
   ]
  },
  {
   "cell_type": "code",
   "execution_count": 36,
   "id": "791dac48-6a00-4684-8bec-b46a45f232a3",
   "metadata": {},
   "outputs": [
    {
     "name": "stdout",
     "output_type": "stream",
     "text": [
      "{'threads': [],\n",
      " 'tweets': [{'date': 'Oct 30, 2020 · 3:22 AM UTC',\n",
      "             'external-link': '',\n",
      "             'gifs': [],\n",
      "             'is-pinned': False,\n",
      "             'is-retweet': False,\n",
      "             'link': 'https://twitter.com/Rhuan_MB/status/1322015923772006400#m',\n",
      "             'pictures': [],\n",
      "             'quoted-post': {},\n",
      "             'replying-to': [],\n",
      "             'stats': {'comments': 0, 'likes': 0, 'quotes': 0, 'retweets': 0},\n",
      "             'text': 'Lipe porraaa',\n",
      "             'user': {'avatar': 'https://pbs.twimg.com/profile_images/1633271804406972418/fSWtf3sU_bigger.jpg',\n",
      "                      'name': 'Rhuan',\n",
      "                      'profile_id': '1633271804406972418',\n",
      "                      'username': '@Rhuan_MB'},\n",
      "             'videos': []},\n",
      "            {'date': 'Oct 30, 2020 · 2:32 AM UTC',\n",
      "             'external-link': '',\n",
      "             'gifs': [],\n",
      "             'is-pinned': False,\n",
      "             'is-retweet': False,\n",
      "             'link': 'https://twitter.com/Rhuan_MB/status/1322003480823930880#m',\n",
      "             'pictures': [],\n",
      "             'quoted-post': {},\n",
      "             'replying-to': [],\n",
      "             'stats': {'comments': 0, 'likes': 0, 'quotes': 0, 'retweets': 0},\n",
      "             'text': 'Lipe brabissimo',\n",
      "             'user': {'avatar': 'https://pbs.twimg.com/profile_images/1633271804406972418/fSWtf3sU_bigger.jpg',\n",
      "                      'name': 'Rhuan',\n",
      "                      'profile_id': '1633271804406972418',\n",
      "                      'username': '@Rhuan_MB'},\n",
      "             'videos': []},\n",
      "            {'date': 'Oct 28, 2020 · 2:58 AM UTC',\n",
      "             'external-link': '',\n",
      "             'gifs': [],\n",
      "             'is-pinned': False,\n",
      "             'is-retweet': False,\n",
      "             'link': 'https://twitter.com/Rhuan_MB/status/1321285123824885761#m',\n",
      "             'pictures': [],\n",
      "             'quoted-post': {},\n",
      "             'replying-to': [],\n",
      "             'stats': {'comments': 0, 'likes': 0, 'quotes': 0, 'retweets': 0},\n",
      "             'text': 'Lipe lanço a braba tbm',\n",
      "             'user': {'avatar': 'https://pbs.twimg.com/profile_images/1633271804406972418/fSWtf3sU_bigger.jpg',\n",
      "                      'name': 'Rhuan',\n",
      "                      'profile_id': '1633271804406972418',\n",
      "                      'username': '@Rhuan_MB'},\n",
      "             'videos': []},\n",
      "            {'date': 'Oct 28, 2020 · 2:28 AM UTC',\n",
      "             'external-link': '',\n",
      "             'gifs': [],\n",
      "             'is-pinned': False,\n",
      "             'is-retweet': False,\n",
      "             'link': 'https://twitter.com/Rhuan_MB/status/1321277729292099587#m',\n",
      "             'pictures': [],\n",
      "             'quoted-post': {},\n",
      "             'replying-to': [],\n",
      "             'stats': {'comments': 0, 'likes': 1, 'quotes': 0, 'retweets': 0},\n",
      "             'text': 'Kkkkkk Lidi é uma deusa pqp  \"Na vdd eu ofendi a vaca '\n",
      "                     'né\"',\n",
      "             'user': {'avatar': 'https://pbs.twimg.com/profile_images/1633271804406972418/fSWtf3sU_bigger.jpg',\n",
      "                      'name': 'Rhuan',\n",
      "                      'profile_id': '1633271804406972418',\n",
      "                      'username': '@Rhuan_MB'},\n",
      "             'videos': []},\n",
      "            {'date': 'Oct 23, 2020 · 3:26 AM UTC',\n",
      "             'external-link': '',\n",
      "             'gifs': [],\n",
      "             'is-pinned': False,\n",
      "             'is-retweet': False,\n",
      "             'link': 'https://twitter.com/Rhuan_MB/status/1319480340797362177#m',\n",
      "             'pictures': [],\n",
      "             'quoted-post': {},\n",
      "             'replying-to': [],\n",
      "             'stats': {'comments': 0, 'likes': 0, 'quotes': 0, 'retweets': 0},\n",
      "             'text': 'Mateus porraaaaaaa',\n",
      "             'user': {'avatar': 'https://pbs.twimg.com/profile_images/1633271804406972418/fSWtf3sU_bigger.jpg',\n",
      "                      'name': 'Rhuan',\n",
      "                      'profile_id': '1633271804406972418',\n",
      "                      'username': '@Rhuan_MB'},\n",
      "             'videos': []},\n",
      "            {'date': 'Oct 23, 2020 · 3:15 AM UTC',\n",
      "             'external-link': '',\n",
      "             'gifs': [],\n",
      "             'is-pinned': False,\n",
      "             'is-retweet': False,\n",
      "             'link': 'https://twitter.com/Rhuan_MB/status/1319477631302205440#m',\n",
      "             'pictures': [],\n",
      "             'quoted-post': {},\n",
      "             'replying-to': [],\n",
      "             'stats': {'comments': 0, 'likes': 1, 'quotes': 0, 'retweets': 0},\n",
      "             'text': 'Pf fica Mateus',\n",
      "             'user': {'avatar': 'https://pbs.twimg.com/profile_images/1633271804406972418/fSWtf3sU_bigger.jpg',\n",
      "                      'name': 'Rhuan',\n",
      "                      'profile_id': '1633271804406972418',\n",
      "                      'username': '@Rhuan_MB'},\n",
      "             'videos': []},\n",
      "            {'date': 'Oct 22, 2020 · 3:13 AM UTC',\n",
      "             'external-link': '',\n",
      "             'gifs': [],\n",
      "             'is-pinned': False,\n",
      "             'is-retweet': False,\n",
      "             'link': 'https://twitter.com/Rhuan_MB/status/1319114693114560513#m',\n",
      "             'pictures': [],\n",
      "             'quoted-post': {},\n",
      "             'replying-to': [],\n",
      "             'stats': {'comments': 0, 'likes': 2, 'quotes': 0, 'retweets': 0},\n",
      "             'text': 'Eu jurava q era uma bola por vez os cara fizeram a prova '\n",
      "                     'td pegando uma bola, no final o Juliano pega 100 mil '\n",
      "                     'bolas e foda c saiu tacando',\n",
      "             'user': {'avatar': 'https://pbs.twimg.com/profile_images/1633271804406972418/fSWtf3sU_bigger.jpg',\n",
      "                      'name': 'Rhuan',\n",
      "                      'profile_id': '1633271804406972418',\n",
      "                      'username': '@Rhuan_MB'},\n",
      "             'videos': []},\n",
      "            {'date': 'Oct 22, 2020 · 3:12 AM UTC',\n",
      "             'external-link': '',\n",
      "             'gifs': [],\n",
      "             'is-pinned': False,\n",
      "             'is-retweet': False,\n",
      "             'link': 'https://twitter.com/Rhuan_MB/status/1319114386259255297#m',\n",
      "             'pictures': [],\n",
      "             'quoted-post': {},\n",
      "             'replying-to': [],\n",
      "             'stats': {'comments': 1, 'likes': 1, 'quotes': 0, 'retweets': 0},\n",
      "             'text': 'Meu deus eu tava tão feliz q o Matheus ia ganhar',\n",
      "             'user': {'avatar': 'https://pbs.twimg.com/profile_images/1633271804406972418/fSWtf3sU_bigger.jpg',\n",
      "                      'name': 'Rhuan',\n",
      "                      'profile_id': '1633271804406972418',\n",
      "                      'username': '@Rhuan_MB'},\n",
      "             'videos': []},\n",
      "            {'date': 'Oct 13, 2020 · 5:58 PM UTC',\n",
      "             'external-link': '',\n",
      "             'gifs': [],\n",
      "             'is-pinned': False,\n",
      "             'is-retweet': True,\n",
      "             'link': 'https://twitter.com/pedestrian/status/1316075779881676800#m',\n",
      "             'pictures': ['https://pbs.twimg.com/media/EkOj7xjXYAEjzUl.jpg',\n",
      "                          'https://pbs.twimg.com/media/EkOj8StXkAASLOk.jpg'],\n",
      "             'quoted-post': {},\n",
      "             'replying-to': [],\n",
      "             'stats': {'comments': 32,\n",
      "                       'likes': 29684,\n",
      "                       'quotes': 414,\n",
      "                       'retweets': 2236},\n",
      "             'text': '',\n",
      "             'user': {'avatar': 'https://pbs.twimg.com/profile_images/1757233878018695168/ExURj3nQ_bigger.jpg',\n",
      "                      'name': 'WORLD CULTURE 🌐',\n",
      "                      'profile_id': '1757233878018695168',\n",
      "                      'username': '@pedestrian'},\n",
      "             'videos': []},\n",
      "            {'date': 'Oct 14, 2020 · 3:26 AM UTC',\n",
      "             'external-link': '',\n",
      "             'gifs': [],\n",
      "             'is-pinned': False,\n",
      "             'is-retweet': False,\n",
      "             'link': 'https://twitter.com/Rhuan_MB/status/1316218906206507008#m',\n",
      "             'pictures': [],\n",
      "             'quoted-post': {},\n",
      "             'replying-to': [],\n",
      "             'stats': {'comments': 0, 'likes': 1, 'quotes': 0, 'retweets': 0},\n",
      "             'text': 'Ainda bem q a Lidi salvo o Lipi',\n",
      "             'user': {'avatar': 'https://pbs.twimg.com/profile_images/1633271804406972418/fSWtf3sU_bigger.jpg',\n",
      "                      'name': 'Rhuan',\n",
      "                      'profile_id': '1633271804406972418',\n",
      "                      'username': '@Rhuan_MB'},\n",
      "             'videos': []}]}\n"
     ]
    }
   ],
   "source": [
    "pprint(tweets)"
   ]
  },
  {
   "cell_type": "code",
   "execution_count": 8,
   "id": "b98fc2a5-f24c-4086-907e-886d33d26d1d",
   "metadata": {},
   "outputs": [
    {
     "data": {
      "text/plain": [
       "dict_keys(['tweets', 'threads'])"
      ]
     },
     "execution_count": 8,
     "metadata": {},
     "output_type": "execute_result"
    }
   ],
   "source": [
    "tweets.keys()"
   ]
  },
  {
   "cell_type": "code",
   "execution_count": 37,
   "id": "cd637d45-40f6-40b0-bfa9-b3d13d3eca2d",
   "metadata": {},
   "outputs": [
    {
     "data": {
      "text/plain": [
       "{'link': 'https://twitter.com/Rhuan_MB/status/1322015923772006400#m',\n",
       " 'text': 'Lipe porraaa',\n",
       " 'user': {'name': 'Rhuan',\n",
       "  'username': '@Rhuan_MB',\n",
       "  'profile_id': '1633271804406972418',\n",
       "  'avatar': 'https://pbs.twimg.com/profile_images/1633271804406972418/fSWtf3sU_bigger.jpg'},\n",
       " 'date': 'Oct 30, 2020 · 3:22 AM UTC',\n",
       " 'is-retweet': False,\n",
       " 'is-pinned': False,\n",
       " 'external-link': '',\n",
       " 'replying-to': [],\n",
       " 'quoted-post': {},\n",
       " 'stats': {'comments': 0, 'retweets': 0, 'quotes': 0, 'likes': 0},\n",
       " 'pictures': [],\n",
       " 'videos': [],\n",
       " 'gifs': []}"
      ]
     },
     "execution_count": 37,
     "metadata": {},
     "output_type": "execute_result"
    }
   ],
   "source": [
    "tweets['tweets'][0]"
   ]
  },
  {
   "cell_type": "code",
   "execution_count": 41,
   "id": "78432641-60d2-459a-bd5d-b55cca8739f0",
   "metadata": {},
   "outputs": [
    {
     "name": "stdout",
     "output_type": "stream",
     "text": [
      "28-Apr-24 17:12:41 - No instance specified, using random instance https://nitter.esmailelbob.xyz\n"
     ]
    }
   ],
   "source": [
    "rhuan_info = scraper.get_profile_info(username=\"Rhuan_MB\")"
   ]
  },
  {
   "cell_type": "code",
   "execution_count": 42,
   "id": "10ac2b57-a588-4e47-a79e-fb8b53ea2d1d",
   "metadata": {},
   "outputs": [
    {
     "name": "stdout",
     "output_type": "stream",
     "text": [
      "{'bio': '',\n",
      " 'id': '',\n",
      " 'image': 'https://pbs.twimg.com/profile_images/1633271804406972418/fSWtf3sU_400x400.jpg',\n",
      " 'joined': '12:56 AM - 9 Mar 2014',\n",
      " 'location': '',\n",
      " 'name': 'Rhuan',\n",
      " 'stats': {'followers': 167,\n",
      "           'following': 223,\n",
      "           'likes': 3321,\n",
      "           'media': 0,\n",
      "           'tweets': 6826},\n",
      " 'username': '@Rhuan_MB',\n",
      " 'website': ''}\n"
     ]
    }
   ],
   "source": [
    "pprint(rhuan_info)"
   ]
  },
  {
   "cell_type": "code",
   "execution_count": 43,
   "id": "c54ebbc1-0b25-4d69-8ccd-8354d55c62ea",
   "metadata": {},
   "outputs": [],
   "source": [
    "data = {\n",
    "    'link':[],\n",
    "    'text':[],\n",
    "    'user':[],\n",
    "    'likes':[],\n",
    "    'quotes':[],\n",
    "    'retweets':[],\n",
    "    'comments':[]\n",
    "}\n",
    "\n",
    "for tweet in tweets['tweets']:\n",
    "    data['link'].append(tweet['link'])\n",
    "    data['text'].append(tweet['text'])\n",
    "    data['user'].append(tweet['user']['name'])\n",
    "    data['likes'].append(tweet['stats']['likes'])\n",
    "    data['quotes'].append(tweet['stats']['quotes'])    \n",
    "    data['retweets'].append(tweet['stats']['retweets'])    \n",
    "    data['comments'].append(tweet['stats']['comments'])    "
   ]
  },
  {
   "cell_type": "code",
   "execution_count": 44,
   "id": "01fc532c-a188-4c00-9409-e512ca642cd4",
   "metadata": {},
   "outputs": [
    {
     "data": {
      "text/plain": [
       "{'link': ['https://twitter.com/Rhuan_MB/status/1322015923772006400#m',\n",
       "  'https://twitter.com/Rhuan_MB/status/1322003480823930880#m',\n",
       "  'https://twitter.com/Rhuan_MB/status/1321285123824885761#m',\n",
       "  'https://twitter.com/Rhuan_MB/status/1321277729292099587#m',\n",
       "  'https://twitter.com/Rhuan_MB/status/1319480340797362177#m',\n",
       "  'https://twitter.com/Rhuan_MB/status/1319477631302205440#m',\n",
       "  'https://twitter.com/Rhuan_MB/status/1319114693114560513#m',\n",
       "  'https://twitter.com/Rhuan_MB/status/1319114386259255297#m',\n",
       "  'https://twitter.com/pedestrian/status/1316075779881676800#m',\n",
       "  'https://twitter.com/Rhuan_MB/status/1316218906206507008#m'],\n",
       " 'text': ['Lipe porraaa',\n",
       "  'Lipe brabissimo',\n",
       "  'Lipe lanço a braba tbm',\n",
       "  'Kkkkkk Lidi é uma deusa pqp  \"Na vdd eu ofendi a vaca né\"',\n",
       "  'Mateus porraaaaaaa',\n",
       "  'Pf fica Mateus',\n",
       "  'Eu jurava q era uma bola por vez os cara fizeram a prova td pegando uma bola, no final o Juliano pega 100 mil bolas e foda c saiu tacando',\n",
       "  'Meu deus eu tava tão feliz q o Matheus ia ganhar',\n",
       "  '',\n",
       "  'Ainda bem q a Lidi salvo o Lipi'],\n",
       " 'user': ['Rhuan',\n",
       "  'Rhuan',\n",
       "  'Rhuan',\n",
       "  'Rhuan',\n",
       "  'Rhuan',\n",
       "  'Rhuan',\n",
       "  'Rhuan',\n",
       "  'Rhuan',\n",
       "  'WORLD CULTURE 🌐',\n",
       "  'Rhuan'],\n",
       " 'likes': [0, 0, 0, 1, 0, 1, 2, 1, 29684, 1],\n",
       " 'quotes': [0, 0, 0, 0, 0, 0, 0, 0, 414, 0],\n",
       " 'retweets': [0, 0, 0, 0, 0, 0, 0, 0, 2236, 0],\n",
       " 'comments': [0, 0, 0, 0, 0, 0, 0, 1, 32, 0]}"
      ]
     },
     "execution_count": 44,
     "metadata": {},
     "output_type": "execute_result"
    }
   ],
   "source": [
    "data"
   ]
  },
  {
   "cell_type": "code",
   "execution_count": 45,
   "id": "7dd106ca-85cd-4348-926d-872ef98d07be",
   "metadata": {},
   "outputs": [
    {
     "name": "stdout",
     "output_type": "stream",
     "text": [
      "28-Apr-24 17:14:56 - NumExpr defaulting to 8 threads.\n"
     ]
    },
    {
     "data": {
      "text/html": [
       "<div>\n",
       "<style scoped>\n",
       "    .dataframe tbody tr th:only-of-type {\n",
       "        vertical-align: middle;\n",
       "    }\n",
       "\n",
       "    .dataframe tbody tr th {\n",
       "        vertical-align: top;\n",
       "    }\n",
       "\n",
       "    .dataframe thead th {\n",
       "        text-align: right;\n",
       "    }\n",
       "</style>\n",
       "<table border=\"1\" class=\"dataframe\">\n",
       "  <thead>\n",
       "    <tr style=\"text-align: right;\">\n",
       "      <th></th>\n",
       "      <th>link</th>\n",
       "      <th>text</th>\n",
       "      <th>user</th>\n",
       "      <th>likes</th>\n",
       "      <th>quotes</th>\n",
       "      <th>retweets</th>\n",
       "      <th>comments</th>\n",
       "    </tr>\n",
       "  </thead>\n",
       "  <tbody>\n",
       "    <tr>\n",
       "      <th>0</th>\n",
       "      <td>https://twitter.com/Rhuan_MB/status/1322015923...</td>\n",
       "      <td>Lipe porraaa</td>\n",
       "      <td>Rhuan</td>\n",
       "      <td>0</td>\n",
       "      <td>0</td>\n",
       "      <td>0</td>\n",
       "      <td>0</td>\n",
       "    </tr>\n",
       "    <tr>\n",
       "      <th>1</th>\n",
       "      <td>https://twitter.com/Rhuan_MB/status/1322003480...</td>\n",
       "      <td>Lipe brabissimo</td>\n",
       "      <td>Rhuan</td>\n",
       "      <td>0</td>\n",
       "      <td>0</td>\n",
       "      <td>0</td>\n",
       "      <td>0</td>\n",
       "    </tr>\n",
       "    <tr>\n",
       "      <th>2</th>\n",
       "      <td>https://twitter.com/Rhuan_MB/status/1321285123...</td>\n",
       "      <td>Lipe lanço a braba tbm</td>\n",
       "      <td>Rhuan</td>\n",
       "      <td>0</td>\n",
       "      <td>0</td>\n",
       "      <td>0</td>\n",
       "      <td>0</td>\n",
       "    </tr>\n",
       "    <tr>\n",
       "      <th>3</th>\n",
       "      <td>https://twitter.com/Rhuan_MB/status/1321277729...</td>\n",
       "      <td>Kkkkkk Lidi é uma deusa pqp  \"Na vdd eu ofendi...</td>\n",
       "      <td>Rhuan</td>\n",
       "      <td>1</td>\n",
       "      <td>0</td>\n",
       "      <td>0</td>\n",
       "      <td>0</td>\n",
       "    </tr>\n",
       "    <tr>\n",
       "      <th>4</th>\n",
       "      <td>https://twitter.com/Rhuan_MB/status/1319480340...</td>\n",
       "      <td>Mateus porraaaaaaa</td>\n",
       "      <td>Rhuan</td>\n",
       "      <td>0</td>\n",
       "      <td>0</td>\n",
       "      <td>0</td>\n",
       "      <td>0</td>\n",
       "    </tr>\n",
       "  </tbody>\n",
       "</table>\n",
       "</div>"
      ],
      "text/plain": [
       "                                                link  \\\n",
       "0  https://twitter.com/Rhuan_MB/status/1322015923...   \n",
       "1  https://twitter.com/Rhuan_MB/status/1322003480...   \n",
       "2  https://twitter.com/Rhuan_MB/status/1321285123...   \n",
       "3  https://twitter.com/Rhuan_MB/status/1321277729...   \n",
       "4  https://twitter.com/Rhuan_MB/status/1319480340...   \n",
       "\n",
       "                                                text   user  likes  quotes  \\\n",
       "0                                       Lipe porraaa  Rhuan      0       0   \n",
       "1                                    Lipe brabissimo  Rhuan      0       0   \n",
       "2                             Lipe lanço a braba tbm  Rhuan      0       0   \n",
       "3  Kkkkkk Lidi é uma deusa pqp  \"Na vdd eu ofendi...  Rhuan      1       0   \n",
       "4                                 Mateus porraaaaaaa  Rhuan      0       0   \n",
       "\n",
       "   retweets  comments  \n",
       "0         0         0  \n",
       "1         0         0  \n",
       "2         0         0  \n",
       "3         0         0  \n",
       "4         0         0  "
      ]
     },
     "execution_count": 45,
     "metadata": {},
     "output_type": "execute_result"
    }
   ],
   "source": [
    "import pandas as pd\n",
    "df = pd.DataFrame(data)\n",
    "df.head()"
   ]
  },
  {
   "cell_type": "code",
   "execution_count": 46,
   "id": "ebe9ff7d-f42e-4ff6-b615-1a5a09e052a0",
   "metadata": {},
   "outputs": [],
   "source": [
    "df.to_csv(\"rhuan_data.csv\")"
   ]
  },
  {
   "cell_type": "code",
   "execution_count": 47,
   "id": "6f92bcb8-6cee-481e-b002-caab9e3cc367",
   "metadata": {},
   "outputs": [
    {
     "name": "stderr",
     "output_type": "stream",
     "text": [
      "Testing instances:  92%|██████████████████████████████████████████████████████████     | 71/77 [01:56<00:06,  1.16s/it]"
     ]
    },
    {
     "name": "stdout",
     "output_type": "stream",
     "text": [
      "28-Apr-24 17:17:29 - Certificate did not match expected hostname: nt.ggtyler.dev. Certificate: {'subject': ((('commonName', '4g.ggtyler.dev'),),), 'issuer': ((('countryName', 'US'),), (('organizationName', \"Let's Encrypt\"),), (('commonName', 'R3'),)), 'version': 3, 'serialNumber': '048FA3D68DCD65927A6C57C2A3C9C1F8CA14', 'notBefore': 'Mar 15 00:26:35 2024 GMT', 'notAfter': 'Jun 13 00:26:34 2024 GMT', 'subjectAltName': (('DNS', '4g.ggtyler.dev'),), 'OCSP': ('http://r3.o.lencr.org',), 'caIssuers': ('http://r3.i.lencr.org/',)}\n"
     ]
    },
    {
     "name": "stderr",
     "output_type": "stream",
     "text": [
      "\r",
      "Testing instances:  94%|██████████████████████████████████████████████████████████▉    | 72/77 [01:57<00:04,  1.05it/s]"
     ]
    },
    {
     "name": "stdout",
     "output_type": "stream",
     "text": [
      "28-Apr-24 17:17:30 - Certificate did not match expected hostname: nitter.uni-sonia.com. Certificate: {'subject': ((('commonName', '*.xserver.jp'),),), 'issuer': ((('countryName', 'JP'),), (('organizationName', 'CloudSecure Corporation'),), (('commonName', 'CloudSecure RSA Domain Validation Secure Server CA 2'),)), 'version': 3, 'serialNumber': 'ACA67AD2030638EE2DCE8E845B8299A6', 'notBefore': 'Mar 11 00:00:00 2024 GMT', 'notAfter': 'Apr 11 23:59:59 2025 GMT', 'subjectAltName': (('DNS', '*.xserver.jp'), ('DNS', 'xserver.jp')), 'OCSP': ('http://ocsp.sectigo.com',), 'caIssuers': ('http://crt.sectigo.com/CloudSecureRSADomainValidationSecureServerCA2.crt',)}\n"
     ]
    },
    {
     "name": "stderr",
     "output_type": "stream",
     "text": [
      "Testing instances: 100%|███████████████████████████████████████████████████████████████| 77/77 [02:13<00:00,  1.73s/it]\n"
     ]
    }
   ],
   "source": [
    "import pandas as pd\n",
    "scraper = Nitter()\n",
    "def create_tweets_dataset(username,no_of_tweets):\n",
    "    tweets = scraper.get_tweets(username,mode=\"user\",number=no_of_tweets)\n",
    "    data = {\n",
    "        'link':[],\n",
    "        'text':[],\n",
    "        'user':[],\n",
    "        'likes':[],\n",
    "        'quotes':[],\n",
    "        'retweets':[],\n",
    "        'comments':[]\n",
    "    }\n",
    "\n",
    "    for tweet in tweets['tweets']:\n",
    "        data['link'].append(tweet['link'])\n",
    "        data['text'].append(tweet['text'])\n",
    "        data['user'].append(tweet['user']['name'])\n",
    "        data['likes'].append(tweet['stats']['likes'])\n",
    "        data['quotes'].append(tweet['stats']['quotes'])    \n",
    "        data['retweets'].append(tweet['stats']['retweets'])    \n",
    "        data['comments'].append(tweet['stats']['comments'])    \n",
    "    df = pd.DataFrame(data)\n",
    "    df.to_csv(username+\"_tweets_data.csv\")"
   ]
  },
  {
   "cell_type": "code",
   "execution_count": 50,
   "id": "ba7a4a96-688b-4404-9b14-fbc9def7dc9c",
   "metadata": {},
   "outputs": [
    {
     "name": "stdout",
     "output_type": "stream",
     "text": [
      "28-Apr-24 17:20:39 - No instance specified, using random instance https://nitter.esmailelbob.xyz\n",
      "28-Apr-24 17:20:45 - Current stats for casimiro: 20 tweets, 0 threads...\n",
      "28-Apr-24 17:20:49 - Current stats for casimiro: 40 tweets, 0 threads...\n",
      "28-Apr-24 17:20:51 - Fetching error: Instance has been rate limited.Use another instance or try again later.\n"
     ]
    }
   ],
   "source": [
    "create_tweets_dataset(\"casimiro\",50)"
   ]
  },
  {
   "cell_type": "code",
   "execution_count": null,
   "id": "31c7b85f-3ad8-491b-b212-75f35be3531b",
   "metadata": {},
   "outputs": [],
   "source": []
  },
  {
   "cell_type": "code",
   "execution_count": null,
   "id": "ea15949f-3053-40bc-b668-640c215be0de",
   "metadata": {},
   "outputs": [],
   "source": []
  }
 ],
 "metadata": {
  "kernelspec": {
   "display_name": "Python 3 (ipykernel)",
   "language": "python",
   "name": "python3"
  },
  "language_info": {
   "codemirror_mode": {
    "name": "ipython",
    "version": 3
   },
   "file_extension": ".py",
   "mimetype": "text/x-python",
   "name": "python",
   "nbconvert_exporter": "python",
   "pygments_lexer": "ipython3",
   "version": "3.9.12"
  }
 },
 "nbformat": 4,
 "nbformat_minor": 5
}
