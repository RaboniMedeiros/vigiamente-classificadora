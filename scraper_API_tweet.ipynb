{
 "cells": [
  {
   "cell_type": "code",
   "execution_count": 38,
   "id": "3b4d942e",
   "metadata": {},
   "outputs": [
    {
     "name": "stdout",
     "output_type": "stream",
     "text": [
      "Usuários: ['Rhuan_MB', 'RaboniMedeiros']\n",
      "Usuários: ['663d7c53adca58e351779980', '663d7e7c66d9896e8ca63ebc']\n"
     ]
    }
   ],
   "source": [
    "import requests\n",
    "\n",
    "# URL da sua API\n",
    "url = 'http://localhost:3000/perfis'  # Substitua 'sua-rota' pela rota específica da sua API\n",
    "\n",
    "# Fazendo uma solicitação GET para a API\n",
    "response = requests.get(url)\n",
    "\n",
    "# Verificando se a solicitação foi bem-sucedida (código de status 200)\n",
    "if response.status_code == 200:\n",
    "    # Se a solicitação foi bem-sucedida, você pode acessar os dados da resposta assim:\n",
    "    data = response.json()  # Isso assume que sua API retorna dados no formato JSON\n",
    "    # Inicializa uma lista vazia para armazenar os nomes de usuário\n",
    "    usuarios = []\n",
    "    ids_usuario = []\n",
    "    # Percorre a resposta da API\n",
    "    for perfil in data:\n",
    "        # Extrai o nome de usuário e adiciona à lista\n",
    "        usuarios.append(perfil['usuario'])\n",
    "        ids_usuario.append(perfil['_id'])\n",
    "    # Imprime a lista de usuários\n",
    "    print(\"Usuários:\", usuarios)\n",
    "    print(\"Usuários:\", ids_usuario)\n",
    "else:\n",
    "    print(\"Erro ao acessar a API. Código de status:\", response.status_code)\n"
   ]
  },
  {
   "cell_type": "code",
   "execution_count": 14,
   "id": "245b4da3",
   "metadata": {},
   "outputs": [
    {
     "name": "stderr",
     "output_type": "stream",
     "text": [
      "Testing instances:  92%|██████████████████████████████████████████████████████████     | 71/77 [01:53<00:06,  1.12s/it]"
     ]
    },
    {
     "name": "stdout",
     "output_type": "stream",
     "text": [
      "12-May-24 23:22:54 - Certificate did not match expected hostname: nt.ggtyler.dev. Certificate: {'subject': ((('commonName', '4g.ggtyler.dev'),),), 'issuer': ((('countryName', 'US'),), (('organizationName', \"Let's Encrypt\"),), (('commonName', 'R3'),)), 'version': 3, 'serialNumber': '048FA3D68DCD65927A6C57C2A3C9C1F8CA14', 'notBefore': 'Mar 15 00:26:35 2024 GMT', 'notAfter': 'Jun 13 00:26:34 2024 GMT', 'subjectAltName': (('DNS', '4g.ggtyler.dev'),), 'OCSP': ('http://r3.o.lencr.org',), 'caIssuers': ('http://r3.i.lencr.org/',)}\n"
     ]
    },
    {
     "name": "stderr",
     "output_type": "stream",
     "text": [
      "Testing instances:  95%|███████████████████████████████████████████████████████████▋   | 73/77 [01:54<00:03,  1.25it/s]"
     ]
    },
    {
     "name": "stdout",
     "output_type": "stream",
     "text": [
      "12-May-24 23:22:55 - Certificate did not match expected hostname: nitter.uni-sonia.com. Certificate: {'subject': ((('commonName', '*.xserver.jp'),),), 'issuer': ((('countryName', 'JP'),), (('organizationName', 'CloudSecure Corporation'),), (('commonName', 'CloudSecure RSA Domain Validation Secure Server CA 2'),)), 'version': 3, 'serialNumber': 'ACA67AD2030638EE2DCE8E845B8299A6', 'notBefore': 'Mar 11 00:00:00 2024 GMT', 'notAfter': 'Apr 11 23:59:59 2025 GMT', 'subjectAltName': (('DNS', '*.xserver.jp'), ('DNS', 'xserver.jp')), 'OCSP': ('http://ocsp.sectigo.com',), 'caIssuers': ('http://crt.sectigo.com/CloudSecureRSADomainValidationSecureServerCA2.crt',)}\n"
     ]
    },
    {
     "name": "stderr",
     "output_type": "stream",
     "text": [
      "Testing instances:  99%|██████████████████████████████████████████████████████████████▏| 76/77 [02:00<00:01,  1.67s/it]"
     ]
    },
    {
     "name": "stdout",
     "output_type": "stream",
     "text": [
      "12-May-24 23:23:02 - Certificate did not match expected hostname: nitter.tinfoil-hat.net. Certificate: {'subject': ((('commonName', 'jelly.tinfoil-hat.de'),),), 'issuer': ((('countryName', 'US'),), (('organizationName', \"Let's Encrypt\"),), (('commonName', 'R3'),)), 'version': 3, 'serialNumber': '03F338CE809E122DC2875C50A27A840DD7A4', 'notBefore': 'Mar 15 22:40:16 2024 GMT', 'notAfter': 'Jun 13 22:40:15 2024 GMT', 'subjectAltName': (('DNS', 'jelly.tinfoil-hat.de'),), 'OCSP': ('http://r3.o.lencr.org',), 'caIssuers': ('http://r3.i.lencr.org/',)}\n"
     ]
    },
    {
     "name": "stderr",
     "output_type": "stream",
     "text": [
      "Testing instances: 100%|███████████████████████████████████████████████████████████████| 77/77 [02:02<00:00,  1.59s/it]\n"
     ]
    }
   ],
   "source": [
    "#pip install ntscraper\n",
    "from ntscraper import Nitter\n",
    "scraper = Nitter(log_level = 1,skip_instance_check= False)"
   ]
  },
  {
   "cell_type": "code",
   "execution_count": 34,
   "id": "5bc4ca6d",
   "metadata": {},
   "outputs": [
    {
     "name": "stdout",
     "output_type": "stream",
     "text": [
      "12-May-24 23:50:51 - No instance specified, using random instance https://nitter.privacydev.net\n",
      "12-May-24 23:50:56 - Current stats for Rhuan_MB: 1 tweets, 0 threads...\n",
      "{'link': 'https://twitter.com/Rhuan_MB/status/1322015923772006400#m', 'texto': 'Lipe porraaa'}\n",
      "Tweets inseridos com sucesso!\n",
      "IDs dos tweets inseridos: ['664180103cfbb49b44d4141b']\n",
      "12-May-24 23:50:57 - No instance specified, using random instance https://nitter.esmailelbob.xyz\n",
      "12-May-24 23:51:03 - Current stats for RaboniMedeiros: 1 tweets, 0 threads...\n",
      "{'link': 'https://twitter.com/RaboniMedeiros/status/1731819198412734936#m', 'texto': 'Repito esse texto todo dia ao acordar há 30 dias pra ter um dia mais feliz'}\n",
      "Tweets inseridos com sucesso!\n",
      "IDs dos tweets inseridos: ['664180173cfbb49b44d4141d']\n"
     ]
    }
   ],
   "source": [
    "from pprint import pprint\n",
    "import requests\n",
    "import json\n",
    "\n",
    "# Percorre a resposta da API\n",
    "for perfil in data:\n",
    "    # Obtém o nome de usuário do perfil\n",
    "    usuario = perfil['usuario']\n",
    "    ids= perfil['_ids']\n",
    "    # Usa o scraper para obter os tweets do usuário\n",
    "    tweets = scraper.get_tweets(usuario, mode=\"user\", number=1)\n",
    "    \n",
    "    # Inicializa uma lista para armazenar os tweets processados deste usuário\n",
    "    tweets_processados = []\n",
    "    \n",
    "    # Itera sobre cada tweet no dicionário de tweets\n",
    "    for tweet in tweets['tweets']:\n",
    "        # Cria um novo dicionário com os campos desejados\n",
    "        tweet_processado = {\n",
    "            'link': tweet['link'],\n",
    "            'texto': tweet['text'],\n",
    "        }\n",
    "        # Adiciona o tweet processado à lista de tweets processados deste usuário\n",
    "        tweets_processados.append(tweet_processado)\n",
    "\n",
    "    # Exibe os tweets processados deste usuário\n",
    "    for tweet in tweets_processados:\n",
    "        print(tweet)\n",
    "\n",
    "    # URL da sua API para onde deseja fazer o POST\n",
    "    url2 = 'http://localhost:3000/tweets'\n",
    "\n",
    "    # Cabeçalhos para indicar que o conteúdo é JSON\n",
    "    headers = {'Content-Type': 'application/json'}\n",
    "\n",
    "    # Dados que serão enviados no corpo da requisição POST\n",
    "    dados = json.dumps(tweets_processados)\n",
    "\n",
    "    # Fazendo a requisição POST\n",
    "    response = requests.post(url2, data=dados, headers=headers)\n",
    "\n",
    "    # Verificando se a requisição foi bem-sucedida\n",
    "    if response.status_code == 201:\n",
    "        print(\"Tweets inseridos com sucesso!\")\n",
    "        \n",
    "        # Extrai os IDs dos tweets inseridos diretamente da resposta\n",
    "        ids_inseridos = [tweet['_id'] for tweet in response.json()['tweet']]\n",
    "\n",
    "        # Imprime os IDs dos tweets inseridos\n",
    "        print(\"IDs dos tweets inseridos:\", ids_inseridos)\n",
    "        \n",
    "    else:\n",
    "        print(\"Erro ao inserir tweets:\", response.text)\n"
   ]
  }
 ],
 "metadata": {
  "kernelspec": {
   "display_name": "Python 3 (ipykernel)",
   "language": "python",
   "name": "python3"
  },
  "language_info": {
   "codemirror_mode": {
    "name": "ipython",
    "version": 3
   },
   "file_extension": ".py",
   "mimetype": "text/x-python",
   "name": "python",
   "nbconvert_exporter": "python",
   "pygments_lexer": "ipython3",
   "version": "3.9.12"
  }
 },
 "nbformat": 4,
 "nbformat_minor": 5
}
