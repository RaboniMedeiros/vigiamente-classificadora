{
 "cells": [
  {
   "cell_type": "code",
   "execution_count": 6,
   "id": "3b4d942e",
   "metadata": {},
   "outputs": [
    {
     "name": "stdout",
     "output_type": "stream",
     "text": [
      "Usuários: ['Rhuan_MB', 'RaboniMedeiros']\n",
      "IDs de Usuários: ['663d7c53adca58e351779980', '663d7e7c66d9896e8ca63ebc']\n"
     ]
    }
   ],
   "source": [
    "import requests\n",
    "\n",
    "# URL da sua API\n",
    "login_url = 'http://localhost:3000/auth/login'\n",
    "url = 'http://localhost:3000/perfis'\n",
    "\n",
    "# Credenciais do usuário\n",
    "credentials = {\n",
    "    'usuario': 'admin',\n",
    "    'senha': 'admin'\n",
    "}\n",
    "\n",
    "# Fazendo uma solicitação POST para obter o token JWT\n",
    "login_response = requests.post(login_url, json=credentials)\n",
    "\n",
    "if login_response.status_code == 200:\n",
    "    token = login_response.json()['login']\n",
    "    \n",
    "    # Incluindo o token JWT no cabeçalho Authorization\n",
    "    headers = {\n",
    "        'Authorization': \"Bearer \"+token\n",
    "    }\n",
    "\n",
    "    # Fazendo uma solicitação GET para a API protegida\n",
    "    response = requests.get(url, headers=headers)\n",
    "\n",
    "    # Verificando se a solicitação foi bem-sucedida (código de status 200)\n",
    "    if response.status_code == 200:\n",
    "        # Se a solicitação foi bem-sucedida, você pode acessar os dados da resposta assim:\n",
    "        data = response.json()  # Isso assume que sua API retorna dados no formato JSON\n",
    "        # Inicializa uma lista vazia para armazenar os nomes de usuário\n",
    "        usuarios = []\n",
    "        ids_usuario = []\n",
    "        # Percorre a resposta da API\n",
    "        for perfil in data:\n",
    "            # Extrai o nome de usuário e adiciona à lista\n",
    "            usuarios.append(perfil['usuario'])\n",
    "            ids_usuario.append(perfil['_id'])\n",
    "        # Imprime a lista de usuários\n",
    "        print(\"Usuários:\", usuarios)\n",
    "        print(\"IDs de Usuários:\", ids_usuario)\n",
    "    else:\n",
    "        print(\"Erro ao acessar a API. Código de status:\", response.status_code)\n",
    "else:\n",
    "    print(\"Erro ao fazer login. Código de status:\", login_response.status_code)\n"
   ]
  },
  {
   "cell_type": "code",
   "execution_count": 7,
   "id": "245b4da3",
   "metadata": {},
   "outputs": [
    {
     "name": "stderr",
     "output_type": "stream",
     "text": [
      "Testing instances:  71%|█████████████████████████████████████████████                  | 55/77 [01:18<00:17,  1.24it/s]"
     ]
    },
    {
     "name": "stdout",
     "output_type": "stream",
     "text": [
      "01-Jun-24 21:16:03 - Certificate did not match expected hostname: nitter.no-logs.com. Certificate: {'subject': ((('commonName', 'no-logs.com'),),), 'issuer': ((('countryName', 'US'),), (('organizationName', \"Let's Encrypt\"),), (('commonName', 'R3'),)), 'version': 3, 'serialNumber': '03D031100DF5685B02FBBE1577956863687F', 'notBefore': 'May 14 21:29:50 2024 GMT', 'notAfter': 'Aug 12 21:29:49 2024 GMT', 'subjectAltName': (('DNS', 'no-logs.com'),), 'OCSP': ('http://r3.o.lencr.org',), 'caIssuers': ('http://r3.i.lencr.org/',)}\n"
     ]
    },
    {
     "name": "stderr",
     "output_type": "stream",
     "text": [
      "Testing instances:  92%|██████████████████████████████████████████████████████████     | 71/77 [02:00<00:07,  1.28s/it]"
     ]
    },
    {
     "name": "stdout",
     "output_type": "stream",
     "text": [
      "01-Jun-24 21:16:45 - Certificate did not match expected hostname: nt.ggtyler.dev. Certificate: {'subject': ((('commonName', '4g.ggtyler.dev'),),), 'issuer': ((('countryName', 'US'),), (('organizationName', \"Let's Encrypt\"),), (('commonName', 'R3'),)), 'version': 3, 'serialNumber': '03A4459CE6DA31CFF555DB78FF3F35BFEA88', 'notBefore': 'May 14 10:55:44 2024 GMT', 'notAfter': 'Aug 12 10:55:43 2024 GMT', 'subjectAltName': (('DNS', '4g.ggtyler.dev'),), 'OCSP': ('http://r3.o.lencr.org',), 'caIssuers': ('http://r3.i.lencr.org/',)}\n"
     ]
    },
    {
     "name": "stderr",
     "output_type": "stream",
     "text": [
      "Testing instances:  95%|███████████████████████████████████████████████████████████▋   | 73/77 [02:01<00:03,  1.15it/s]"
     ]
    },
    {
     "name": "stdout",
     "output_type": "stream",
     "text": [
      "01-Jun-24 21:16:46 - Certificate did not match expected hostname: nitter.uni-sonia.com. Certificate: {'subject': ((('commonName', '*.xserver.jp'),),), 'issuer': ((('countryName', 'JP'),), (('organizationName', 'CloudSecure Corporation'),), (('commonName', 'CloudSecure RSA Domain Validation Secure Server CA 2'),)), 'version': 3, 'serialNumber': 'ACA67AD2030638EE2DCE8E845B8299A6', 'notBefore': 'Mar 11 00:00:00 2024 GMT', 'notAfter': 'Apr 11 23:59:59 2025 GMT', 'subjectAltName': (('DNS', '*.xserver.jp'), ('DNS', 'xserver.jp')), 'OCSP': ('http://ocsp.sectigo.com',), 'caIssuers': ('http://crt.sectigo.com/CloudSecureRSADomainValidationSecureServerCA2.crt',)}\n"
     ]
    },
    {
     "name": "stderr",
     "output_type": "stream",
     "text": [
      "Testing instances:  99%|██████████████████████████████████████████████████████████████▏| 76/77 [02:07<00:01,  1.71s/it]"
     ]
    },
    {
     "name": "stdout",
     "output_type": "stream",
     "text": [
      "01-Jun-24 21:16:57 - Certificate did not match expected hostname: nitter.tinfoil-hat.net. Certificate: {'subject': ((('commonName', 'jelly.tinfoil-hat.de'),),), 'issuer': ((('countryName', 'US'),), (('organizationName', \"Let's Encrypt\"),), (('commonName', 'R3'),)), 'version': 3, 'serialNumber': '044FDE3E7089FB997C3D8AFDE2412CE51554', 'notBefore': 'May 15 09:29:23 2024 GMT', 'notAfter': 'Aug 13 09:29:22 2024 GMT', 'subjectAltName': (('DNS', 'jelly.tinfoil-hat.de'),), 'OCSP': ('http://r3.o.lencr.org',), 'caIssuers': ('http://r3.i.lencr.org/',)}\n"
     ]
    },
    {
     "name": "stderr",
     "output_type": "stream",
     "text": [
      "Testing instances: 100%|███████████████████████████████████████████████████████████████| 77/77 [02:14<00:00,  1.74s/it]\n"
     ]
    }
   ],
   "source": [
    "#pip install ntscraper\n",
    "from ntscraper import Nitter\n",
    "scraper = Nitter(log_level = 1,skip_instance_check= False)"
   ]
  },
  {
   "cell_type": "code",
   "execution_count": 9,
   "id": "5bc4ca6d",
   "metadata": {},
   "outputs": [
    {
     "name": "stdout",
     "output_type": "stream",
     "text": [
      "01-Jun-24 21:21:20 - No instance specified, using random instance https://nitter.privacydev.net\n",
      "01-Jun-24 21:21:25 - Current stats for Rhuan_MB: 15 tweets, 0 threads...\n",
      "{'link': 'https://twitter.com/Rhuan_MB/status/1322015923772006400#m', 'texto': 'Lipe porraaa', 'perfilId': '663d7c53adca58e351779980'}\n",
      "{'link': 'https://twitter.com/Rhuan_MB/status/1322003480823930880#m', 'texto': 'Lipe brabissimo', 'perfilId': '663d7c53adca58e351779980'}\n",
      "{'link': 'https://twitter.com/Rhuan_MB/status/1321285123824885761#m', 'texto': 'Lipe lanço a braba tbm', 'perfilId': '663d7c53adca58e351779980'}\n",
      "{'link': 'https://twitter.com/Rhuan_MB/status/1321277729292099587#m', 'texto': 'Kkkkkk Lidi é uma deusa pqp  \"Na vdd eu ofendi a vaca né\"', 'perfilId': '663d7c53adca58e351779980'}\n",
      "{'link': 'https://twitter.com/Rhuan_MB/status/1319480340797362177#m', 'texto': 'Mateus porraaaaaaa', 'perfilId': '663d7c53adca58e351779980'}\n",
      "{'link': 'https://twitter.com/Rhuan_MB/status/1319477631302205440#m', 'texto': 'Pf fica Mateus', 'perfilId': '663d7c53adca58e351779980'}\n",
      "{'link': 'https://twitter.com/Rhuan_MB/status/1319114693114560513#m', 'texto': 'Eu jurava q era uma bola por vez os cara fizeram a prova td pegando uma bola, no final o Juliano pega 100 mil bolas e foda c saiu tacando', 'perfilId': '663d7c53adca58e351779980'}\n",
      "{'link': 'https://twitter.com/Rhuan_MB/status/1319114386259255297#m', 'texto': 'Meu deus eu tava tão feliz q o Matheus ia ganhar', 'perfilId': '663d7c53adca58e351779980'}\n",
      "{'link': 'https://twitter.com/pedestrian/status/1316075779881676800#m', 'texto': '', 'perfilId': '663d7c53adca58e351779980'}\n",
      "{'link': 'https://twitter.com/Rhuan_MB/status/1316218906206507008#m', 'texto': 'Ainda bem q a Lidi salvo o Lipi', 'perfilId': '663d7c53adca58e351779980'}\n",
      "{'link': 'https://twitter.com/Rhuan_MB/status/1316216919654006784#m', 'texto': 'Lidi save Lipe', 'perfilId': '663d7c53adca58e351779980'}\n",
      "{'link': 'https://twitter.com/Rhuan_MB/status/1316196490205958146#m', 'texto': 'É o menino Ney porraaa', 'perfilId': '663d7c53adca58e351779980'}\n",
      "{'link': 'https://twitter.com/McPozedorodo/status/1315053839654019072#m', 'texto': '😂😂😂😂😂😂😂😂😂😂😂🙅🏽\\u200d♂️', 'perfilId': '663d7c53adca58e351779980'}\n",
      "{'link': 'https://twitter.com/Rhuan_MB/status/1315165256881070080#m', 'texto': 'Cobra kai é mt bom', 'perfilId': '663d7c53adca58e351779980'}\n",
      "{'link': 'https://twitter.com/Rhuan_MB/status/1315042101776789509#m', 'texto': 'Vamoooo porraa', 'perfilId': '663d7c53adca58e351779980'}\n",
      "Erro ao inserir tweet: {\"message\":\"O tweet não foi cadastrado porque o link já existe\"}\n",
      "Erro ao inserir tweet: {\"message\":\"O tweet não foi cadastrado porque o link já existe\"}\n",
      "Tweet inserido com sucesso!\n",
      "ID do tweet inserido: 665bbb063310fa58ab02b7d5\n",
      "Tweet inserido com sucesso!\n",
      "ID do tweet inserido: 665bbb063310fa58ab02b7db\n",
      "Tweet inserido com sucesso!\n",
      "ID do tweet inserido: 665bbb073310fa58ab02b7e2\n",
      "Tweet inserido com sucesso!\n",
      "ID do tweet inserido: 665bbb083310fa58ab02b7ea\n",
      "Tweet inserido com sucesso!\n",
      "ID do tweet inserido: 665bbb083310fa58ab02b7f3\n",
      "Tweet inserido com sucesso!\n",
      "ID do tweet inserido: 665bbb093310fa58ab02b7fd\n",
      "Tweet inserido com sucesso!\n",
      "ID do tweet inserido: 665bbb093310fa58ab02b808\n",
      "Tweet inserido com sucesso!\n",
      "ID do tweet inserido: 665bbb0a3310fa58ab02b814\n",
      "Tweet inserido com sucesso!\n",
      "ID do tweet inserido: 665bbb0b3310fa58ab02b821\n",
      "Tweet inserido com sucesso!\n",
      "ID do tweet inserido: 665bbb0b3310fa58ab02b82f\n",
      "Tweet inserido com sucesso!\n",
      "ID do tweet inserido: 665bbb0c3310fa58ab02b83e\n",
      "Tweet inserido com sucesso!\n",
      "ID do tweet inserido: 665bbb0c3310fa58ab02b84e\n",
      "Tweet inserido com sucesso!\n",
      "ID do tweet inserido: 665bbb0d3310fa58ab02b85f\n",
      "01-Jun-24 21:21:33 - No instance specified, using random instance https://nitter.privacydev.net\n",
      "01-Jun-24 21:21:39 - Current stats for RaboniMedeiros: 15 tweets, 0 threads...\n",
      "{'link': 'https://twitter.com/RaboniMedeiros/status/1731819198412734936#m', 'texto': 'Repito esse texto todo dia ao acordar há 30 dias pra ter um dia mais feliz', 'perfilId': '663d7e7c66d9896e8ca63ebc'}\n",
      "{'link': 'https://twitter.com/RaboniMedeiros/status/1795260722173386811#m', 'texto': 'Tive que perder pra lembrar porque eu não perdia', 'perfilId': '663d7e7c66d9896e8ca63ebc'}\n",
      "{'link': 'https://twitter.com/RaboniMedeiros/status/1793763441586639305#m', 'texto': 'Ainda tô no episódio 13 de Cavaleiros do Zodíaco e o Shiryu já devia ter morrido 3 vezes', 'perfilId': '663d7e7c66d9896e8ca63ebc'}\n",
      "{'link': 'https://twitter.com/RaboniMedeiros/status/1793114948522115336#m', 'texto': 'BOSTON SEXO 🍀', 'perfilId': '663d7e7c66d9896e8ca63ebc'}\n",
      "{'link': 'https://twitter.com/RaboniMedeiros/status/1793085132909551666#m', 'texto': 'Alô alô ArceloMittal', 'perfilId': '663d7e7c66d9896e8ca63ebc'}\n",
      "{'link': 'https://twitter.com/RaboniMedeiros/status/1791250672274350193#m', 'texto': 'Foi só o Zinho falar que o Ganso não tava no jogo que ele sofreu a falta da expulsão do jogador do Cerro e fez o gol #LibertadoresNaESPN', 'perfilId': '663d7e7c66d9896e8ca63ebc'}\n",
      "{'link': 'https://twitter.com/RaboniMedeiros/status/1790864658695356749#m', 'texto': 'Minha mãe dizendo que não dava pra fazer comida porque estamos sem luz, apresentei pra ela uma grande tecnologia chamada fósforo', 'perfilId': '663d7e7c66d9896e8ca63ebc'}\n",
      "{'link': 'https://twitter.com/RaboniMedeiros/status/1790112817489600791#m', 'texto': '5 meses sem fumar hoje (cigarro rs)', 'perfilId': '663d7e7c66d9896e8ca63ebc'}\n",
      "{'link': 'https://twitter.com/RaboniMedeiros/status/1789835786751267293#m', 'texto': '2 horas debugando a minha aplicação pra no final descobrir que tinha uma letra maiúscula na API que eu fiz Quinta Feira, que ódio', 'perfilId': '663d7e7c66d9896e8ca63ebc'}\n",
      "{'link': 'https://twitter.com/RaboniMedeiros/status/1788761080388350208#m', 'texto': 'E não é que eu aprendi a fazer uma API em Node.Js conectada a um MongoDB em 24 horas??', 'perfilId': '663d7e7c66d9896e8ca63ebc'}\n",
      "{'link': 'https://twitter.com/RaboniMedeiros/status/1787952941690757511#m', 'texto': 'Coincidentemente sempre que o Keno tá machucado, o Flu está mal', 'perfilId': '663d7e7c66d9896e8ca63ebc'}\n",
      "{'link': 'https://twitter.com/RaboniMedeiros/status/1787452360102486023#m', 'texto': 'Precisaria de pelo menos mais 10 horas no dia pra conseguir fazer tudo que eu quero fazer', 'perfilId': '663d7e7c66d9896e8ca63ebc'}\n",
      "{'link': 'https://twitter.com/RaboniMedeiros/status/1783618773590659073#m', 'texto': 'O que eu confundo Jhon Arias e Marquinhos em campo é brincadeira', 'perfilId': '663d7e7c66d9896e8ca63ebc'}\n",
      "{'link': 'https://twitter.com/RaboniMedeiros/status/1781734132109758597#m', 'texto': 'Nível 40 ex fumante, tá?', 'perfilId': '663d7e7c66d9896e8ca63ebc'}\n",
      "{'link': 'https://twitter.com/obinrinejo/status/1776913764954083477#m', 'texto': 'Como pode a Ludmilla ser a mãe do Rio de Janeiro e o BK o pai', 'perfilId': '663d7e7c66d9896e8ca63ebc'}\n",
      "Erro ao inserir tweet: {\"message\":\"O tweet não foi cadastrado porque o link já existe\"}\n",
      "Tweet inserido com sucesso!\n",
      "ID do tweet inserido: 665bbb133310fa58ab02b872\n",
      "Erro ao inserir tweet: {\"message\":\"O tweet não foi cadastrado porque o link já existe\"}\n",
      "Erro ao inserir tweet: {\"message\":\"O tweet não foi cadastrado porque o link já existe\"}\n",
      "Erro ao inserir tweet: {\"message\":\"O tweet não foi cadastrado porque o link já existe\"}\n",
      "Erro ao inserir tweet: {\"message\":\"O tweet não foi cadastrado porque o link já existe\"}\n",
      "Erro ao inserir tweet: {\"message\":\"O tweet não foi cadastrado porque o link já existe\"}\n",
      "Erro ao inserir tweet: {\"message\":\"O tweet não foi cadastrado porque o link já existe\"}\n",
      "Erro ao inserir tweet: {\"message\":\"O tweet não foi cadastrado porque o link já existe\"}\n",
      "Erro ao inserir tweet: {\"message\":\"O tweet não foi cadastrado porque o link já existe\"}\n",
      "Erro ao inserir tweet: {\"message\":\"O tweet não foi cadastrado porque o link já existe\"}\n",
      "Tweet inserido com sucesso!\n",
      "ID do tweet inserido: 665bbb153310fa58ab02b88b\n",
      "Tweet inserido com sucesso!\n",
      "ID do tweet inserido: 665bbb163310fa58ab02b89c\n",
      "Tweet inserido com sucesso!\n",
      "ID do tweet inserido: 665bbb173310fa58ab02b8ae\n",
      "Tweet inserido com sucesso!\n",
      "ID do tweet inserido: 665bbb173310fa58ab02b8c1\n"
     ]
    }
   ],
   "source": [
    "from pprint import pprint\n",
    "import requests\n",
    "import json\n",
    "\n",
    "# Percorre a resposta da API\n",
    "for perfil in data:\n",
    "    # Obtém o nome de usuário do perfil\n",
    "    usuario = perfil['usuario']\n",
    "    perfil_id = perfil['_id']\n",
    "    # Usa o scraper para obter os tweets do usuário\n",
    "    tweets = scraper.get_tweets(usuario, mode=\"user\", number=15)\n",
    "    \n",
    "    # Inicializa uma lista para armazenar os tweets processados deste usuário\n",
    "    tweets_processados = []\n",
    "    \n",
    "    # Itera sobre cada tweet no dicionário de tweets\n",
    "    for tweet in tweets['tweets']:\n",
    "        # Cria um novo dicionário com os campos desejados\n",
    "        tweet_processado = {\n",
    "            'link': tweet['link'],\n",
    "            'texto': tweet['text'],\n",
    "            'perfilId': perfil_id  # Inclui o perfilId aqui\n",
    "        }\n",
    "        # Adiciona o tweet processado à lista de tweets processados deste usuário\n",
    "        tweets_processados.append(tweet_processado)\n",
    "\n",
    "    # Exibe os tweets processados deste usuário\n",
    "    for tweet in tweets_processados:\n",
    "        print(tweet)\n",
    "\n",
    "    # URL da sua API para onde deseja fazer o POST\n",
    "    url2 = 'http://localhost:3000/tweets'\n",
    "\n",
    "    # Cabeçalhos para indicar que o conteúdo é JSON\n",
    "    headers = {'Content-Type': 'application/json','Authorization': \"Bearer \"+token}\n",
    "\n",
    "    # Fazendo a requisição POST para cada tweet individualmente\n",
    "    for tweet in tweets_processados:\n",
    "        # Dados que serão enviados no corpo da requisição POST\n",
    "        dados = json.dumps(tweet)\n",
    "\n",
    "        # Fazendo a requisição POST\n",
    "        response = requests.post(url2, data=dados, headers=headers)\n",
    "\n",
    "        # Verificando se a requisição foi bem-sucedida\n",
    "        if response.status_code == 201:\n",
    "            print(\"Tweet inserido com sucesso!\")\n",
    "            \n",
    "            # Extrai o ID do tweet inserido diretamente da resposta\n",
    "            id_inserido = response.json()['tweet']['_id']\n",
    "\n",
    "            # Imprime o ID do tweet inserido\n",
    "            print(\"ID do tweet inserido:\", id_inserido)\n",
    "            \n",
    "        else:\n",
    "            print(\"Erro ao inserir tweet:\", response.text)\n"
   ]
  },
  {
   "cell_type": "code",
   "execution_count": null,
   "id": "2410e7d6",
   "metadata": {},
   "outputs": [],
   "source": [
    "pip install ntscraper"
   ]
  }
 ],
 "metadata": {
  "kernelspec": {
   "display_name": "Python 3 (ipykernel)",
   "language": "python",
   "name": "python3"
  },
  "language_info": {
   "codemirror_mode": {
    "name": "ipython",
    "version": 3
   },
   "file_extension": ".py",
   "mimetype": "text/x-python",
   "name": "python",
   "nbconvert_exporter": "python",
   "pygments_lexer": "ipython3",
   "version": "3.9.12"
  }
 },
 "nbformat": 4,
 "nbformat_minor": 5
}
